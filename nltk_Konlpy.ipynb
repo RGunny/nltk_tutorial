{
 "cells": [
  {
   "cell_type": "markdown",
   "metadata": {},
   "source": [
    "# **nltk 객체 활용하기**\n",
    "nltk token"
   ]
  },
  {
   "cell_type": "markdown",
   "metadata": {},
   "source": [
    "## **1 nltk 객체 정의하기**\n",
    "Token List 객체를 생성한 뒤, 이를 활용하여 nltk 객체를 만든다"
   ]
  },
  {
   "cell_type": "code",
   "execution_count": 3,
   "metadata": {},
   "outputs": [
    {
     "data": {
      "text/plain": [
       "['지방공무원법', '일부', '개정', '법률', '안']"
      ]
     },
     "execution_count": 3,
     "metadata": {},
     "output_type": "execute_result"
    }
   ],
   "source": [
    "# 법령조문 데이터 불러오기\n",
    "from konlpy.corpus import kobill\n",
    "doc_ko   = kobill.open('1809890.txt').read() # 법전 데이터 불러오기\n",
    "\n",
    "# 명사 Token 추출하기\n",
    "from konlpy.tag import Twitter\n",
    "twitter = Twitter()\n",
    "tokens  = twitter.nouns(doc_ko)\n",
    "tokens[:5]"
   ]
  },
  {
   "cell_type": "code",
   "execution_count": 5,
   "metadata": {},
   "outputs": [
    {
     "data": {
      "text/plain": [
       "<Text: 법안제출>"
      ]
     },
     "execution_count": 5,
     "metadata": {},
     "output_type": "execute_result"
    }
   ],
   "source": [
    "# nltk Token 객체를 활용한 다양한 메소드를 제동\n",
    "import nltk\n",
    "ko_Text = nltk.Text(tokens, name='법안제출')\n",
    "ko_Text"
   ]
  },
  {
   "cell_type": "markdown",
   "metadata": {},
   "source": [
    "## **2 nltk 객체 활용하기**\n",
    "내부 메서드를 활용한다"
   ]
  },
  {
   "cell_type": "code",
   "execution_count": 7,
   "metadata": {},
   "outputs": [
    {
     "name": "stdout",
     "output_type": "stream",
     "text": [
      "초등학교 저학년; 근로자 육아휴직; 육아휴직 대상자; 공무원 육아휴직\n"
     ]
    }
   ],
   "source": [
    "# Token 들 중 연어목록을 출력한다\n",
    "ko_Text.collocations()"
   ]
  },
  {
   "cell_type": "code",
   "execution_count": 4,
   "metadata": {},
   "outputs": [
    {
     "name": "stdout",
     "output_type": "stream",
     "text": [
      "중_육아휴직 및_육아휴직 및_대상\n"
     ]
    }
   ],
   "source": [
    "ko.common_contexts(['근로자'])"
   ]
  },
  {
   "cell_type": "code",
   "execution_count": 5,
   "metadata": {},
   "outputs": [
    {
     "name": "stdout",
     "output_type": "stream",
     "text": [
      "Displaying 3 of 6 matches:\n",
      "규백 황영철 박영아 김정훈 김학송 의원 인 제안 이유 및 주요 내용 초등학교 저학년 경우 부모 사랑 필요 나이 현재 공무원 자녀 양육 육아휴직 \n",
      "요 나이 현재 공무원 자녀 양육 육아휴직 수 자녀 나이 만 세 이하 초등학교 저학년 자녀 해당 부모님 일자리 곧 출산 의욕 저하 문제 수 것임 \n",
      " 안 지방공무원법 일부 다음 개정 제 조제 항제 호 중 만 세 이하 초등학교 취학 전 자녀 만 세 이하 취학 중인 경우 초등학교 학년 이하 의 \n"
     ]
    }
   ],
   "source": [
    "# 인접하여 위치하는 Token 을 출력\n",
    "ko.concordance('초등학교', width=8, lines=3)"
   ]
  },
  {
   "cell_type": "code",
   "execution_count": 6,
   "metadata": {},
   "outputs": [
    {
     "data": {
      "text/plain": [
       "ConcordanceLine(left=['의', '자', '정의화', '이명수', '김을동', '이사철', '여상규', '안규백', '황영철', '박영아', '김정훈', '김학송', '의원', '인', '제안', '이유', '및', '주요', '내용'], query='초등학교', right=['저학년', '경우', '부모', '사랑', '필요', '나이', '현재', '공무원', '자녀', '양육', '육아휴직', '수', '자녀', '나이', '만', '세', '이하', '초등학교'], offset=35, left_print='백 황영철 박영아 김정훈 김학송 의원 인 제안 이유 및 주요 내용', right_print='저학년 경우 부모 사랑 필요 나이 현재 공무원 자녀 양육 육아휴직', line='백 황영철 박영아 김정훈 김학송 의원 인 제안 이유 및 주요 내용 초등학교 저학년 경우 부모 사랑 필요 나이 현재 공무원 자녀 양육 육아휴직')"
      ]
     },
     "execution_count": 6,
     "metadata": {},
     "output_type": "execute_result"
    }
   ],
   "source": [
    "ko.concordance_list('초등학교')[0]"
   ]
  },
  {
   "cell_type": "code",
   "execution_count": 7,
   "metadata": {},
   "outputs": [
    {
     "data": {
      "text/plain": [
       "6"
      ]
     },
     "execution_count": 7,
     "metadata": {},
     "output_type": "execute_result"
    }
   ],
   "source": [
    "# Token 의 빈도값 출력\n",
    "ko.count('초등학교')"
   ]
  },
  {
   "cell_type": "code",
   "execution_count": 8,
   "metadata": {},
   "outputs": [
    {
     "data": {
      "image/png": "[encoded data removed]",
      "text/plain": [
       "<Figure size 432x288 with 1 Axes>"
      ]
     },
     "metadata": {},
     "output_type": "display_data"
    }
   ],
   "source": [
    "%matplotlib inline\n",
    "# 해당 단어별 출현빈도 비교출력\n",
    "ko.dispersion_plot(['초등학교', '저학년'])"
   ]
  },
  {
   "cell_type": "code",
   "execution_count": 9,
   "metadata": {},
   "outputs": [
    {
     "name": "stdout",
     "output_type": "stream",
     "text": [
      "등학; 등학; 등학; 등학; 등학; 등학\n"
     ]
    }
   ],
   "source": [
    "ko.findall('초등학교')"
   ]
  },
  {
   "cell_type": "code",
   "execution_count": 10,
   "metadata": {},
   "outputs": [],
   "source": [
    "# \n",
    "ko.generate(['초등학교', '저학년'])"
   ]
  },
  {
   "cell_type": "code",
   "execution_count": 11,
   "metadata": {},
   "outputs": [
    {
     "data": {
      "text/plain": [
       "<bound method Text.index of <Text: 법안제출>>"
      ]
     },
     "execution_count": 11,
     "metadata": {},
     "output_type": "execute_result"
    }
   ],
   "source": [
    "# 객체의 인덱스 이름 출력하기\n",
    "ko.index"
   ]
  },
  {
   "cell_type": "code",
   "execution_count": 12,
   "metadata": {},
   "outputs": [
    {
     "data": {
      "text/plain": [
       "'법안제출'"
      ]
     },
     "execution_count": 12,
     "metadata": {},
     "output_type": "execute_result"
    }
   ],
   "source": [
    "# 객체의 이름만 출력\n",
    "ko.name"
   ]
  },
  {
   "cell_type": "code",
   "execution_count": 13,
   "metadata": {},
   "outputs": [
    {
     "data": {
      "image/png": "[encoded data removed]",
      "text/plain": [
       "<Figure size 432x288 with 1 Axes>"
      ]
     },
     "metadata": {},
     "output_type": "display_data"
    }
   ],
   "source": [
    "# 객체의 빈도를 Matplot linechart 로 출력\n",
    "ko.plot(10)"
   ]
  },
  {
   "cell_type": "code",
   "execution_count": 14,
   "metadata": {},
   "outputs": [
    {
     "name": "stdout",
     "output_type": "stream",
     "text": [
      "\n"
     ]
    }
   ],
   "source": [
    "# ko.readability('biline')\n",
    "ko.similar('초등학교',num=20)"
   ]
  },
  {
   "cell_type": "code",
   "execution_count": 15,
   "metadata": {},
   "outputs": [
    {
     "data": {
      "text/plain": [
       "[('육아휴직', 38),\n",
       " ('만', 19),\n",
       " ('이하', 18),\n",
       " ('비용', 17),\n",
       " ('액', 17),\n",
       " ('경우', 16),\n",
       " ('세', 16),\n",
       " ('대체', 16),\n",
       " ('자녀', 14),\n",
       " ('고용', 14)]"
      ]
     },
     "execution_count": 15,
     "metadata": {},
     "output_type": "execute_result"
    }
   ],
   "source": [
    "# Token의 출현빈도 상위객체 출력\n",
    "# ko.tokens(['초등학교', '저학년'])\n",
    "ko.vocab().most_common(10)"
   ]
  },
  {
   "cell_type": "markdown",
   "metadata": {},
   "source": [
    "<br></br>\n",
    "# **Konlpy**\n",
    "nltk Token 객체를 생성한 뒤 이를 활용한다"
   ]
  },
  {
   "cell_type": "markdown",
   "metadata": {},
   "source": [
    "<br>\n",
    "# **1 Word Cloud**"
   ]
  },
  {
   "cell_type": "markdown",
   "metadata": {},
   "source": [
    "<br>\n",
    "##  **1 데이터 전처리**\n",
    "텍스트 불러온 뒤 불용어 전처리"
   ]
  },
  {
   "cell_type": "code",
   "execution_count": 16,
   "metadata": {},
   "outputs": [
    {
     "data": {
      "text/plain": [
       "'지방공무원법 일부개정법률안\\n\\n(정의화의원 대표발의 )\\n\\n 의 안\\n 번 호\\n\\n9890\\n\\n발의연월일 : 2010.  11.  12.  \\n\\n발  의  자 : 정의화․이명수․김을동 \\n\\n이사철․여상규․안규백\\n\\n황영철․박영아․김정훈\\n\\n김학송 의원(10인)\\n\\n제안이유 및 주요내용\\n\\n  초등학교 저학년의 경우에도 부모의 따뜻한 사랑과 보살핌이 필요\\n\\n한 나이이나, 현재 공무원이 자녀를 양육하기 위하여 육아휴직을 할 \\n\\n수 있는 자녀의 나이는 만 6세 이하로 되어 있어 초등학교 저학년인 \\n\\n자녀를 돌보기 위해서는 해당 부모님은 일자리를 그만 두어야 하고 \\n\\n이는 곧 출산의욕을 저하시키는 문제로 이어질 수 있을 것임.\\n\\n  따라서 육아휴직이 가능한 자녀의 연령을 만 8세 이하로 개정하려\\n\\n는 것임(안 제63조제2항제4호).\\n\\n- 1 -\\n\\n\\x0c법률  제        호\\n\\n지방공무원법 일부개정법률안\\n\\n지방공무원법 일부를 다음과 같이 개정한다.\\n\\n제63조제2항제4호 중 “만 6세 이하의 초등학교 취학 전 자'"
      ]
     },
     "execution_count": 16,
     "metadata": {},
     "output_type": "execute_result"
    }
   ],
   "source": [
    "# 법령조문 데이터 불러오기\n",
    "from konlpy.corpus import kobill\n",
    "files_ko = kobill.fileids()\n",
    "doc_ko   = kobill.open('1809890.txt').read()\n",
    "doc_ko[:500]"
   ]
  },
  {
   "cell_type": "code",
   "execution_count": 17,
   "metadata": {},
   "outputs": [
    {
     "data": {
      "text/plain": [
       "['지방공무원법', '일부', '개정', '법률', '안', '정의화', '의원', '대표', '발의', '의']"
      ]
     },
     "execution_count": 17,
     "metadata": {},
     "output_type": "execute_result"
    }
   ],
   "source": [
    "# token 중 명사들만 추출하기\n",
    "from konlpy.tag import Twitter\n",
    "t         = Twitter()\n",
    "tokens_ko = t.nouns(doc_ko)\n",
    "tokens_ko[:10]"
   ]
  },
  {
   "cell_type": "code",
   "execution_count": 18,
   "metadata": {},
   "outputs": [
    {
     "name": "stdout",
     "output_type": "stream",
     "text": [
      "735\n"
     ]
    },
    {
     "data": {
      "text/plain": [
       "680"
      ]
     },
     "execution_count": 18,
     "metadata": {},
     "output_type": "execute_result"
    }
   ],
   "source": [
    "# stopwords 불용어 전처리\n",
    "print(len(tokens_ko))\n",
    "stop_words = ['.', '(', ')', ',', \"'\", \"%\", \"-\", \"X\", \").\", \n",
    "             \"x\", \"의\", \"자\", \"에\", \"안\", \"반\", \"번\", '호', \n",
    "             '을', '이', '다', '만', '로', '가', '를']\n",
    "tokens_ko  = [each_word  for each_word  in tokens_ko   if  each_word  not in stop_words]\n",
    "len(tokens_ko)"
   ]
  },
  {
   "cell_type": "markdown",
   "metadata": {},
   "source": [
    "<br>\n",
    "##  **2 token list 객체를 nltk 모듈의 객체로 변환**\n",
    "다양한 method 함수들을 활용가능한 객체를 생성한다"
   ]
  },
  {
   "cell_type": "code",
   "execution_count": 19,
   "metadata": {},
   "outputs": [
    {
     "data": {
      "text/plain": [
       "FreqDist({'육아휴직': 38, '이하': 18, '비용': 17, '액': 17, '경우': 16, '세': 16, '대체': 16, '자녀': 14, '고용': 14, '제': 13, ...})"
      ]
     },
     "execution_count": 19,
     "metadata": {},
     "output_type": "execute_result"
    }
   ],
   "source": [
    "# nltk Token 객체를 활용하여 단어빈도등 내부 에서드를 활용한다\n",
    "import nltk\n",
    "ko = nltk.Text(tokens_ko, name='법안제출')\n",
    "ko.vocab() "
   ]
  },
  {
   "cell_type": "code",
   "execution_count": 20,
   "metadata": {},
   "outputs": [],
   "source": [
    "%matplotlib inline\n",
    "from matplotlib import rc\n",
    "rc('font', family='NanumGothic')"
   ]
  },
  {
   "cell_type": "code",
   "execution_count": 21,
   "metadata": {},
   "outputs": [
    {
     "data": {
      "image/png": "[encoded data removed]",
      "text/plain": [
       "<Figure size 864x288 with 1 Axes>"
      ]
     },
     "metadata": {},
     "output_type": "display_data"
    }
   ],
   "source": [
    "import matplotlib.pyplot as plt\n",
    "plt.figure(figsize=(12,4))\n",
    "ko.plot(50)\n",
    "plt.show()"
   ]
  },
  {
   "cell_type": "markdown",
   "metadata": {},
   "source": [
    "<br>\n",
    "##  3 nltk 객체 활용하기\n",
    "ko"
   ]
  },
  {
   "cell_type": "code",
   "execution_count": 22,
   "metadata": {},
   "outputs": [
    {
     "data": {
      "text/plain": [
       "6"
      ]
     },
     "execution_count": 22,
     "metadata": {},
     "output_type": "execute_result"
    }
   ],
   "source": [
    "# 객체내 Token의 빈도를 계산한다\n",
    "ko.count('초등학교')"
   ]
  },
  {
   "cell_type": "code",
   "execution_count": 23,
   "metadata": {},
   "outputs": [
    {
     "name": "stdout",
     "output_type": "stream",
     "text": [
      "Displaying 3 of 6 matches:\n",
      "규백 황영철 박영아 김정훈 김학송 의원 인 제안 이유 및 주요 내용 초등학교 저학년 경우 부모 사랑 필요 나이 현재 공무원 자녀 양육 육아휴직 \n",
      " 필요 나이 현재 공무원 자녀 양육 육아휴직 수 자녀 나이 세 이하 초등학교 저학년 자녀 해당 부모님 일자리 곧 출산 의욕 저하 문제 수 것임 \n",
      " 개정 법률 지방공무원법 일부 다음 개정 제 조제 항제 중 세 이하 초등학교 취학 전 자녀 세 이하 취학 중인 경우 초등학교 학년 이하 자녀 부\n"
     ]
    }
   ],
   "source": [
    "# 해당 Token이 출현한 주변단어들을 출력한다\n",
    "ko.concordance('초등학교', width=5, lines=3)"
   ]
  },
  {
   "cell_type": "code",
   "execution_count": 24,
   "metadata": {},
   "outputs": [
    {
     "name": "stdout",
     "output_type": "stream",
     "text": [
      "초등학교 저학년; 근로자 육아휴직; 육아휴직 대상자; 공무원 육아휴직\n"
     ]
    }
   ],
   "source": [
    "# 연어로 분석되는 객체들을 출력한다\n",
    "ko.collocations()"
   ]
  },
  {
   "cell_type": "code",
   "execution_count": 25,
   "metadata": {},
   "outputs": [
    {
     "data": {
      "image/png": "[encoded data removed]",
      "text/plain": [
       "<Figure size 432x288 with 1 Axes>"
      ]
     },
     "metadata": {},
     "output_type": "display_data"
    }
   ],
   "source": [
    "# 해당되는 단어의 출현빈도를 시각화 한다\n",
    "ko.dispersion_plot(['육아휴직', '초등학교', '공무원'])"
   ]
  },
  {
   "cell_type": "code",
   "execution_count": 26,
   "metadata": {},
   "outputs": [
    {
     "data": {
      "text/plain": [
       "{'육아휴직': 38,\n",
       " '이하': 18,\n",
       " '비용': 17,\n",
       " '액': 17,\n",
       " '경우': 16,\n",
       " '세': 16,\n",
       " '대체': 16,\n",
       " '자녀': 14,\n",
       " '고용': 14,\n",
       " '제': 13,\n",
       " '인력': 13,\n",
       " '공무원': 10,\n",
       " '월급': 9,\n",
       " '개정': 8,\n",
       " '연령': 8,\n",
       " '추가': 8,\n",
       " '월': 8,\n",
       " '급여': 8,\n",
       " '법률': 7,\n",
       " '수': 7,\n",
       " '조제': 7,\n",
       " '가정': 7,\n",
       " '년': 7,\n",
       " '초등학교': 6,\n",
       " '중': 6,\n",
       " '휴직': 6,\n",
       " '것': 6,\n",
       " '자료': 6,\n",
       " '다음': 5,\n",
       " '표': 5,\n",
       " '명': 5,\n",
       " '지방': 5,\n",
       " '이상': 5,\n",
       " '확률': 5,\n",
       " '위': 5,\n",
       " '수식': 5,\n",
       " '지방공무원법': 4,\n",
       " '일부': 4,\n",
       " '및': 4,\n",
       " '항제': 4,\n",
       " '법': 4,\n",
       " '생': 4,\n",
       " '략': 4,\n",
       " '현행': 4,\n",
       " '추계': 4,\n",
       " '재정': 4,\n",
       " '가능': 4,\n",
       " '교육': 4,\n",
       " '현재': 3,\n",
       " '따라서': 3,\n",
       " '취학': 3,\n",
       " '정': 3,\n",
       " '조': 3,\n",
       " '사유': 3,\n",
       " '첨부': 3,\n",
       " '개정안': 3,\n",
       " '항': 3,\n",
       " '근로자': 3,\n",
       " '소요': 3,\n",
       " '만원': 3,\n",
       " '지급': 3,\n",
       " '발생': 3,\n",
       " '대상자': 3,\n",
       " '고용노동부': 3,\n",
       " '현황': 3,\n",
       " '정의화': 2,\n",
       " '의원': 2,\n",
       " '발의': 2,\n",
       " '인': 2,\n",
       " '저학년': 2,\n",
       " '나이': 2,\n",
       " '양육': 2,\n",
       " '출산': 2,\n",
       " '것임': 2,\n",
       " '전': 2,\n",
       " '중인': 2,\n",
       " '학년': 2,\n",
       " '시행': 2,\n",
       " '직': 2,\n",
       " '임용': 2,\n",
       " '국가공무원': 2,\n",
       " '연': 2,\n",
       " '평균': 2,\n",
       " '억원': 2,\n",
       " '미만': 2,\n",
       " '국가': 2,\n",
       " '신청': 2,\n",
       " '대상': 2,\n",
       " '관련': 2,\n",
       " '법령': 2,\n",
       " '때문': 2,\n",
       " '인건비': 2,\n",
       " '더': 2,\n",
       " '육': 2,\n",
       " '와': 2,\n",
       " '값': 2,\n",
       " '여부': 2,\n",
       " '수급': 2,\n",
       " '바탕': 2,\n",
       " '국회예산정책처': 2,\n",
       " '원': 2,\n",
       " '주지': 2,\n",
       " '행정안전부': 2,\n",
       " '통계': 2,\n",
       " '에서': 2,\n",
       " '팀': 2,\n",
       " '대표': 1,\n",
       " '연월일': 1,\n",
       " '발': 1,\n",
       " '이명수': 1,\n",
       " '김을동': 1,\n",
       " '이사철': 1,\n",
       " '여상규': 1,\n",
       " '안규백': 1,\n",
       " '황영철': 1,\n",
       " '박영아': 1,\n",
       " '김정훈': 1,\n",
       " '김학송': 1,\n",
       " '제안': 1,\n",
       " '이유': 1,\n",
       " '주요': 1,\n",
       " '내용': 1,\n",
       " '부모': 1,\n",
       " '사랑': 1,\n",
       " '필요': 1,\n",
       " '해당': 1,\n",
       " '부모님': 1,\n",
       " '일자리': 1,\n",
       " '곧': 1,\n",
       " '의욕': 1,\n",
       " '저하': 1,\n",
       " '문제': 1,\n",
       " '부': 1,\n",
       " '칙': 1,\n",
       " '공포': 1,\n",
       " '날': 1,\n",
       " '신': 1,\n",
       " '구조': 1,\n",
       " '문대비': 1,\n",
       " '현': 1,\n",
       " '행': 1,\n",
       " '개': 1,\n",
       " '각': 1,\n",
       " '호의': 1,\n",
       " '어': 1,\n",
       " '느': 1,\n",
       " '하나': 1,\n",
       " '다만': 1,\n",
       " '대통령령': 1,\n",
       " '사정': 1}"
      ]
     },
     "execution_count": 26,
     "metadata": {},
     "output_type": "execute_result"
    }
   ],
   "source": [
    "data = ko.vocab().most_common(150)\n",
    "data = dict(data)\n",
    "data"
   ]
  },
  {
   "cell_type": "code",
   "execution_count": 27,
   "metadata": {},
   "outputs": [],
   "source": [
    "# 빈도를 계산한 객체를 사용해서 wordcloud 출력하기\n",
    "from wordcloud import WordCloud, STOPWORDS\n",
    "wordcloud = WordCloud(font_path = './data/D2Coding.ttf', \n",
    "                      relative_scaling = 0.2,\n",
    "                      background_color = 'white',).generate_from_frequencies(data)"
   ]
  },
  {
   "cell_type": "code",
   "execution_count": 28,
   "metadata": {},
   "outputs": [
    {
     "data": {
      "image/png": "[encoded data removed]",
      "text/plain": [
       "<Figure size 864x576 with 1 Axes>"
      ]
     },
     "metadata": {},
     "output_type": "display_data"
    }
   ],
   "source": [
    "plt.figure(figsize=(12,8))\n",
    "plt.imshow(wordcloud)\n",
    "plt.axis('off')\n",
    "plt.show()"
   ]
  },
  {
   "cell_type": "markdown",
   "metadata": {},
   "source": [
    "<br>\n",
    "# **2 문장의 유사도 측정**\n",
    "\n",
    "<br>\n",
    "## **1 문장요소를 Vector로 변환하기**"
   ]
  },
  {
   "cell_type": "code",
   "execution_count": 29,
   "metadata": {},
   "outputs": [],
   "source": [
    "from sklearn.feature_extraction.text import CountVectorizer\n",
    "vectorizer = CountVectorizer(min_df = 1)\n",
    "contents   = [\"메리랑 사귀고 싶은데 바뻐서 어떻게 하죠?\",\n",
    "              \"메리는 공원에서 휴식을 취하는데 놀기는 싫어해요\",\n",
    "              \"메리는 잠만자서 놀기는 싫어해요 이상해요\",\n",
    "              \"먼 곳으로 여행을 떠나고 싶은데 너무 바빠서 그러질 못하고 있어요\"]"
   ]
  },
  {
   "cell_type": "code",
   "execution_count": 30,
   "metadata": {},
   "outputs": [
    {
     "data": {
      "text/plain": [
       "['곳으로',\n",
       " '공원에서',\n",
       " '그러질',\n",
       " '너무',\n",
       " '놀기는',\n",
       " '떠나고',\n",
       " '메리는',\n",
       " '메리랑',\n",
       " '못하고',\n",
       " '바빠서',\n",
       " '바뻐서',\n",
       " '사귀고',\n",
       " '싫어해요',\n",
       " '싶은데',\n",
       " '어떻게',\n",
       " '여행을',\n",
       " '이상해요',\n",
       " '있어요',\n",
       " '잠만자서',\n",
       " '취하는데',\n",
       " '하죠',\n",
       " '휴식을']"
      ]
     },
     "execution_count": 30,
     "metadata": {},
     "output_type": "execute_result"
    }
   ],
   "source": [
    "# 문장객체를 Vector 연산가능 객체로 학습한다\n",
    "X = vectorizer.fit_transform(contents)\n",
    "vectorizer.get_feature_names()"
   ]
  },
  {
   "cell_type": "code",
   "execution_count": 31,
   "metadata": {},
   "outputs": [
    {
     "data": {
      "text/plain": [
       "[['메리', '랑', '사귀', '고', '싶은', '데', '바뻐', '서', '어떻', '게', '하죠', '?'],\n",
       " ['메리', '는', '공원', '에서', '휴식', '을', '취하는', '데', '놀기', '는', '싫어해', '요'],\n",
       " ['메리', '는', '잠', '만', '자서', '놀기', '는', '싫어해', '요', '이상해', '요'],\n",
       " ['먼',\n",
       "  '곳',\n",
       "  '으로',\n",
       "  '여행',\n",
       "  '을',\n",
       "  '떠나고',\n",
       "  '싶은',\n",
       "  '데',\n",
       "  '너무',\n",
       "  '바빠',\n",
       "  '서',\n",
       "  '그러',\n",
       "  '질',\n",
       "  '못',\n",
       "  '하고',\n",
       "  '있어',\n",
       "  '요']]"
      ]
     },
     "execution_count": 31,
     "metadata": {},
     "output_type": "execute_result"
    }
   ],
   "source": [
    "# 형태소를 근거로 token을 분리한 결과객체를 저장한다\n",
    "contents_tokens = [t.morphs(row)  for row  in contents]\n",
    "contents_tokens"
   ]
  },
  {
   "cell_type": "code",
   "execution_count": 32,
   "metadata": {},
   "outputs": [
    {
     "data": {
      "text/plain": [
       "[' 메리 랑 사귀 고 싶은 데 바뻐 서 어떻 게 하죠 ?',\n",
       " ' 메리 는 공원 에서 휴식 을 취하는 데 놀기 는 싫어해 요',\n",
       " ' 메리 는 잠 만 자서 놀기 는 싫어해 요 이상해 요',\n",
       " ' 먼 곳 으로 여행 을 떠나고 싶은 데 너무 바빠 서 그러 질 못 하고 있어 요']"
      ]
     },
     "execution_count": 32,
     "metadata": {},
     "output_type": "execute_result"
    }
   ],
   "source": [
    "contents_for_vectorize = []\n",
    "for content in contents_tokens:\n",
    "    sentence = ''\n",
    "    # content token 분류된 객체들을 이어서 문장으로 완성한다\n",
    "    for word in content:\n",
    "        sentence = sentence + ' ' + word\n",
    "    contents_for_vectorize.append(sentence)\n",
    "    \n",
    "contents_for_vectorize"
   ]
  },
  {
   "cell_type": "code",
   "execution_count": 33,
   "metadata": {},
   "outputs": [
    {
     "data": {
      "text/plain": [
       "(4, 22)"
      ]
     },
     "execution_count": 33,
     "metadata": {},
     "output_type": "execute_result"
    }
   ],
   "source": [
    "# 4개의 문장 22개의 코든이 \n",
    "X = vectorizer.fit_transform(contents_for_vectorize)\n",
    "num_samples, num_features = X.shape\n",
    "num_samples, num_features"
   ]
  },
  {
   "cell_type": "code",
   "execution_count": 34,
   "metadata": {},
   "outputs": [
    {
     "data": {
      "text/plain": [
       "array([[0, 1, 0, 0],\n",
       "       [0, 0, 0, 1],\n",
       "       [0, 0, 0, 1],\n",
       "       [0, 1, 1, 0],\n",
       "       [0, 0, 0, 1],\n",
       "       [1, 1, 1, 0],\n",
       "       [0, 0, 0, 1],\n",
       "       [1, 0, 0, 0],\n",
       "       [1, 0, 0, 0],\n",
       "       [0, 1, 1, 0],\n",
       "       [1, 0, 0, 1],\n",
       "       [1, 0, 0, 0],\n",
       "       [0, 1, 0, 0],\n",
       "       [0, 0, 0, 1],\n",
       "       [0, 0, 0, 1],\n",
       "       [0, 0, 1, 0],\n",
       "       [0, 0, 0, 1],\n",
       "       [0, 0, 1, 0],\n",
       "       [0, 1, 0, 0],\n",
       "       [0, 0, 0, 1],\n",
       "       [1, 0, 0, 0],\n",
       "       [0, 1, 0, 0]], dtype=int64)"
      ]
     },
     "execution_count": 34,
     "metadata": {},
     "output_type": "execute_result"
    }
   ],
   "source": [
    "X.toarray().transpose()"
   ]
  },
  {
   "cell_type": "code",
   "execution_count": 35,
   "metadata": {},
   "outputs": [
    {
     "data": {
      "text/plain": [
       "[' 메리 랑 휴식 을 취하면 서 사랑 을 나누고 싶어 요']"
      ]
     },
     "execution_count": 35,
     "metadata": {},
     "output_type": "execute_result"
    }
   ],
   "source": [
    "new_post               = ['메리랑 휴식을 취하면서 사랑을 나누고 싶어요']\n",
    "new_post_tokens        = [t.morphs(row)  for row  in new_post ]\n",
    "new_post_for_vectorize = []\n",
    "\n",
    "for content in new_post_tokens:\n",
    "    sentence = ''\n",
    "    for word in content:\n",
    "        sentence = sentence + ' ' + word\n",
    "    new_post_for_vectorize.append(sentence)\n",
    "\n",
    "new_post_for_vectorize"
   ]
  },
  {
   "cell_type": "code",
   "execution_count": 36,
   "metadata": {},
   "outputs": [
    {
     "data": {
      "text/plain": [
       "array([[0, 0, 0, 0, 0, 1, 0, 0, 0, 0, 0, 0, 0, 0, 0, 0, 0, 0, 0, 0, 0, 1]])"
      ]
     },
     "execution_count": 36,
     "metadata": {},
     "output_type": "execute_result"
    }
   ],
   "source": [
    "# 위에서 생성한 새로운 문당을 벡터화 한다\n",
    "new_post_vec = vectorizer.transform(new_post_for_vectorize)\n",
    "new_post_vec.toarray()"
   ]
  },
  {
   "cell_type": "markdown",
   "metadata": {},
   "source": [
    "<br>\n",
    "## **2 요소간 거리를 측정한다**"
   ]
  },
  {
   "cell_type": "code",
   "execution_count": 37,
   "metadata": {},
   "outputs": [],
   "source": [
    "import scipy as sp\n",
    "\n",
    "def dist_rwa(v1, v2):\n",
    "    delta = v1 - v2\n",
    "    return sp.linalg.norm(delta.toarray())"
   ]
  },
  {
   "cell_type": "code",
   "execution_count": 38,
   "metadata": {},
   "outputs": [],
   "source": [
    "best_doc = None\n",
    "best_dist = 65535\n",
    "best_i = None"
   ]
  },
  {
   "cell_type": "code",
   "execution_count": 39,
   "metadata": {},
   "outputs": [
    {
     "name": "stdout",
     "output_type": "stream",
     "text": [
      " === Post 0 with dist=2.45 : 메리랑 사귀고 싶은데 바뻐서 어떻게 하죠?\n",
      " === Post 1 with dist=2.24 : 메리는 공원에서 휴식을 취하는데 놀기는 싫어해요\n",
      " === Post 2 with dist=2.24 : 메리는 잠만자서 놀기는 싫어해요 이상해요\n",
      " === Post 3 with dist=3.32 : 먼 곳으로 여행을 떠나고 싶은데 너무 바빠서 그러질 못하고 있어요\n"
     ]
    }
   ],
   "source": [
    "for i in range(0, num_samples):\n",
    "    post_vec = X.getrow(i)\n",
    "    d = dist_rwa(post_vec, new_post_vec)\n",
    "    print(\" === Post {} with dist={:.2f} : {}\".format(i,d,contents[i]))\n",
    "    if d < best_dist:\n",
    "        best_dist = d\n",
    "        best_i = i"
   ]
  },
  {
   "cell_type": "code",
   "execution_count": 40,
   "metadata": {},
   "outputs": [
    {
     "name": "stdout",
     "output_type": "stream",
     "text": [
      "Best post is 1, dist = 2.24 \n",
      " --> ['메리랑 휴식을 취하면서 사랑을 나누고 싶어요'] \n",
      " ----> 먼 곳으로 여행을 떠나고 싶은데 너무 바빠서 그러질 못하고 있어요\n"
     ]
    }
   ],
   "source": [
    "# contents 문장들 중 가장 유사한 sentence 출력하기\n",
    "print(\"Best post is {}, dist = {:.2f} \\n --> {} \\n ----> {}\".format(\n",
    "    best_i, best_dist, \n",
    "    new_post,\n",
    "    contents[i]))"
   ]
  },
  {
   "cell_type": "code",
   "execution_count": 41,
   "metadata": {},
   "outputs": [
    {
     "name": "stdout",
     "output_type": "stream",
     "text": [
      "[[0 0 0 0 0 1 0 1 1 0 1 1 0 0 0 0 0 0 0 0 1 0]] \n",
      " ------------------------------ \n",
      "[[0 0 0 0 0 1 0 0 0 0 0 0 0 0 0 0 0 0 0 0 0 1]]\n",
      "[[1 0 0 1 0 1 0 0 0 1 0 0 1 0 0 0 0 0 1 0 0 1]] \n",
      " ------------------------------ \n",
      "[[0 0 0 0 0 1 0 0 0 0 0 0 0 0 0 0 0 0 0 0 0 1]]\n",
      "[[0 0 0 1 0 1 0 0 0 1 0 0 0 0 0 1 0 1 0 0 0 0]] \n",
      " ------------------------------ \n",
      "[[0 0 0 0 0 1 0 0 0 0 0 0 0 0 0 0 0 0 0 0 0 1]]\n",
      "[[0 1 1 0 1 0 1 0 0 0 1 0 0 1 1 0 1 0 0 1 0 0]] \n",
      " ------------------------------ \n",
      "[[0 0 0 0 0 1 0 0 0 0 0 0 0 0 0 0 0 0 0 0 0 1]]\n"
     ]
    }
   ],
   "source": [
    "# 유사도 검증하기\n",
    "for i in range(0, len(contents)):\n",
    "    print(\"{} \\n ------------------------------ \\n{}\".format(\n",
    "        X.getrow(i).toarray(),\n",
    "        new_post_vec.toarray()))"
   ]
  },
  {
   "cell_type": "code",
   "execution_count": 42,
   "metadata": {},
   "outputs": [],
   "source": [
    "def dist_norm(v1, v2):\n",
    "    v1_normalized = v1 / sp.linalg.norm(v1.toarray())\n",
    "    v2_normalized = v2 / sp.linalg.norm(v2.toarray())\n",
    "    delta = v1_normalized - v2_normalized\n",
    "    return sp.linalg.norm(delta.toarray())"
   ]
  },
  {
   "cell_type": "code",
   "execution_count": 43,
   "metadata": {},
   "outputs": [
    {
     "name": "stdout",
     "output_type": "stream",
     "text": [
      "Best post is 1, dist = 2.24 \n",
      " --> ['메리랑 휴식을 취하면서 사랑을 나누고 싶어요'] \n",
      " ----> 메리는 공원에서 휴식을 취하는데 놀기는 싫어해요\n"
     ]
    }
   ],
   "source": [
    "# contents 문장들 중 가장 유사한 sentence 출력하기\n",
    "print(\"Best post is {}, dist = {:.2f} \\n --> {} \\n ----> {}\".format(\n",
    "    best_i, best_dist, \n",
    "    new_post,\n",
    "    contents[best_i]))"
   ]
  },
  {
   "cell_type": "code",
   "execution_count": 44,
   "metadata": {},
   "outputs": [],
   "source": [
    "def tfidf(t, d, D):\n",
    "    tf = float(d.count(t)) / sum(d.count(w) for w in set(d))\n",
    "    idf = sp.log(float(len(D)) / (len([doc  for doc  in D \n",
    "                                     if  t in doc])))\n",
    "    return tf, idf"
   ]
  },
  {
   "cell_type": "code",
   "execution_count": 45,
   "metadata": {},
   "outputs": [
    {
     "data": {
      "text/plain": [
       "(1.0, 0.0)"
      ]
     },
     "execution_count": 45,
     "metadata": {},
     "output_type": "execute_result"
    }
   ],
   "source": [
    "a, abb, abc = ['a'], ['a','b','b'], ['a','b','c']\n",
    "D = [a, abb, abc]\n",
    "tfidf('a', a, D)"
   ]
  },
  {
   "cell_type": "code",
   "execution_count": 46,
   "metadata": {},
   "outputs": [],
   "source": [
    "from sklearn.feature_extraction.text import TfidfVectorizer\n",
    "vectorizer = TfidfVectorizer(min_df=1, decode_error='ignore')"
   ]
  },
  {
   "cell_type": "code",
   "execution_count": 47,
   "metadata": {},
   "outputs": [],
   "source": [
    "contents_tokens = [t.morphs(row)   for row in contents]\n",
    "contents_for_vectorize = []\n",
    "for content in contents_tokens:\n",
    "    sentence = ''\n",
    "    for word in content:\n",
    "        sentence = sentence + ' ' + word\n",
    "    contents_for_vectorize.append(sentence)"
   ]
  },
  {
   "cell_type": "code",
   "execution_count": 48,
   "metadata": {},
   "outputs": [
    {
     "data": {
      "text/plain": [
       "(4, 22)"
      ]
     },
     "execution_count": 48,
     "metadata": {},
     "output_type": "execute_result"
    }
   ],
   "source": [
    "X = vectorizer.fit_transform(contents_for_vectorize)\n",
    "num_samples, num_features = X.shape\n",
    "num_samples, num_features"
   ]
  },
  {
   "cell_type": "code",
   "execution_count": 49,
   "metadata": {},
   "outputs": [
    {
     "data": {
      "text/plain": [
       "['공원',\n",
       " '그러',\n",
       " '너무',\n",
       " '놀기',\n",
       " '떠나고',\n",
       " '메리',\n",
       " '바빠',\n",
       " '바뻐',\n",
       " '사귀',\n",
       " '싫어해',\n",
       " '싶은',\n",
       " '어떻',\n",
       " '에서',\n",
       " '여행',\n",
       " '으로',\n",
       " '이상해',\n",
       " '있어',\n",
       " '자서',\n",
       " '취하는',\n",
       " '하고',\n",
       " '하죠',\n",
       " '휴식']"
      ]
     },
     "execution_count": 49,
     "metadata": {},
     "output_type": "execute_result"
    }
   ],
   "source": [
    "vectorizer.get_feature_names()"
   ]
  },
  {
   "cell_type": "code",
   "execution_count": 50,
   "metadata": {},
   "outputs": [
    {
     "data": {
      "text/plain": [
       "[' 근처 공원 에 메리 랑 놀 러 가고 싶네 요']"
      ]
     },
     "execution_count": 50,
     "metadata": {},
     "output_type": "execute_result"
    }
   ],
   "source": [
    "new_post = ['근처 공원에 메리랑 놀러가고 싶네요']\n",
    "new_post_tokens = [t.morphs(row)  for row in new_post]\n",
    "new_post_for_vectorize = []\n",
    "\n",
    "for content in new_post_tokens:\n",
    "    sentence = ''\n",
    "    for word in content:\n",
    "        sentence = sentence + ' ' + word\n",
    "        \n",
    "    new_post_for_vectorize.append(sentence)\n",
    "new_post_for_vectorize"
   ]
  },
  {
   "cell_type": "markdown",
   "metadata": {},
   "source": [
    "<br>\n",
    "# **Exo Brain API 활용하기**\n",
    "API설명서 : http://aiopen.etri.re.kr/doc_language.php\n",
    "\n",
    "데모구현 : http://aiopen.etri.re.kr/demo.php"
   ]
  },
  {
   "cell_type": "code",
   "execution_count": 51,
   "metadata": {},
   "outputs": [
    {
     "data": {
      "text/plain": [
       "'srl'"
      ]
     },
     "execution_count": 51,
     "metadata": {},
     "output_type": "execute_result"
    }
   ],
   "source": [
    "\"morp\" # 형태소 분석\n",
    "\"wsd\" # 어휘의미 분석 (동음이의어 분석)\n",
    "\"wsd_poly\" # 어휘의미 분석 (다의어 분석)\n",
    "\"ner\" # 개체명 인식\n",
    "\"dparse\" # 의존 구문 분석\n",
    "\"srl\" # 의미역 인식"
   ]
  },
  {
   "cell_type": "code",
   "execution_count": 52,
   "metadata": {},
   "outputs": [],
   "source": [
    "# http://dgkim5360.tistory.com/entry/python-requests\n",
    "url = \"http://aiopen.etri.re.kr:8000/WiseNLU\"\n",
    "# url_voca = \"http://aiopen.etri.re.kr:8000/WiseNLU\"\n",
    "accessKey = \"b63fbca8-af8b-44be-bf89-0d1a1589c79a\"\n",
    "\n",
    "text = \"배\"\n",
    "\n",
    "data = {\n",
    "    \"access_key\": accessKey,\n",
    "    \"argument\": {\n",
    "        \"text\": text,\n",
    "        \"analysis_code\": \"wsd_poly\" # 의존 구문 분석 analysisCode\n",
    "        }\n",
    "    } \n",
    "\n",
    "import requests, json\n",
    "res = requests.post(url, data=json.dumps(data))\n",
    "result = res.json()"
   ]
  },
  {
   "cell_type": "code",
   "execution_count": 53,
   "metadata": {},
   "outputs": [
    {
     "data": {
      "text/plain": [
       "{'result': 0,\n",
       " 'return_object': {'doc_id': '',\n",
       "  'DCT': '',\n",
       "  'category': '',\n",
       "  'category_weight': 0.0,\n",
       "  'title': {'text': '', 'NE': ''},\n",
       "  'metaInfo': {},\n",
       "  'sentence': [{'id': 0.0,\n",
       "    'reserve_str': '',\n",
       "    'text': '배',\n",
       "    'morp': [{'id': 0.0,\n",
       "      'lemma': '배',\n",
       "      'type': 'NNG',\n",
       "      'position': 0.0,\n",
       "      'weight': 0.391613}],\n",
       "    'WSD': [{'id': 0.0,\n",
       "      'text': '배',\n",
       "      'type': 'NNG',\n",
       "      'scode': '020000',\n",
       "      'weight': 1.0,\n",
       "      'position': 0.0,\n",
       "      'begin': 0.0,\n",
       "      'end': 0.0}],\n",
       "    'word': [{'id': 0.0, 'text': '배', 'type': '', 'begin': 0.0, 'end': 0.0}],\n",
       "    'NE': [],\n",
       "    'dependency': [],\n",
       "    'SRL': []}],\n",
       "  'entity': []}}"
      ]
     },
     "execution_count": 53,
     "metadata": {},
     "output_type": "execute_result"
    }
   ],
   "source": [
    "result"
   ]
  },
  {
   "cell_type": "code",
   "execution_count": 54,
   "metadata": {},
   "outputs": [
    {
     "data": {
      "text/plain": [
       "[{'id': 0.0, 'lemma': '배', 'type': 'NNG', 'position': 0.0, 'weight': 0.391613}]"
      ]
     },
     "execution_count": 54,
     "metadata": {},
     "output_type": "execute_result"
    }
   ],
   "source": [
    "result['return_object']['sentence'][0]['morp']"
   ]
  },
  {
   "cell_type": "code",
   "execution_count": 55,
   "metadata": {},
   "outputs": [
    {
     "data": {
      "text/plain": [
       "{'doc_id': '',\n",
       " 'DCT': '',\n",
       " 'category': '',\n",
       " 'category_weight': 0.0,\n",
       " 'title': {'text': '', 'NE': ''},\n",
       " 'metaInfo': {},\n",
       " 'sentence': [{'id': 0.0,\n",
       "   'reserve_str': '',\n",
       "   'text': '배',\n",
       "   'morp': [{'id': 0.0,\n",
       "     'lemma': '배',\n",
       "     'type': 'NNG',\n",
       "     'position': 0.0,\n",
       "     'weight': 0.391613}],\n",
       "   'WSD': [{'id': 0.0,\n",
       "     'text': '배',\n",
       "     'type': 'NNG',\n",
       "     'scode': '020000',\n",
       "     'weight': 1.0,\n",
       "     'position': 0.0,\n",
       "     'begin': 0.0,\n",
       "     'end': 0.0}],\n",
       "   'word': [{'id': 0.0, 'text': '배', 'type': '', 'begin': 0.0, 'end': 0.0}],\n",
       "   'NE': [],\n",
       "   'dependency': [],\n",
       "   'SRL': []}],\n",
       " 'entity': []}"
      ]
     },
     "execution_count": 55,
     "metadata": {},
     "output_type": "execute_result"
    }
   ],
   "source": [
    "result['return_object']"
   ]
  },
  {
   "cell_type": "code",
   "execution_count": 56,
   "metadata": {},
   "outputs": [
    {
     "name": "stdout",
     "output_type": "stream",
     "text": [
      "[responseCode] 200\n",
      "[responBody]\n",
      "{\"result\":0,\"return_object\":{\"doc_id\":\"\",\"DCT\":\"\",\"category\":\"\",\"category_weight\":0.0,\"title\":{\"text\":\"\",\"NE\":\"\"},\"metaInfo\":{},\"sentence\":[{\"id\":0.0,\"reserve_str\":\"\",\"text\":\"무슨 일을 할줄아니?\",\"morp\":[{\"id\":0.0,\"lemma\":\"무슨\",\"type\":\"MM\",\"position\":0.0,\"weight\":0.047573},{\"id\":1.0,\"lemma\":\"일\",\"type\":\"NNG\",\"position\":7.0,\"weight\":0.472126},{\"id\":2.0,\"lemma\":\"을\",\"type\":\"JKO\",\"position\":10.0,\"weight\":0.129611},{\"id\":3.0,\"lemma\":\"할\",\"type\":\"VV\",\"position\":14.0,\"weight\":0.0},{\"id\":4.0,\"lemma\":\"줄\",\"type\":\"JKC\",\"position\":17.0,\"weight\":0.0},{\"id\":5.0,\"lemma\":\"아\",\"type\":\"VCN\",\"position\":20.0,\"weight\":0.0},{\"id\":6.0,\"lemma\":\"니\",\"type\":\"EF\",\"position\":23.0,\"weight\":0.0535175},{\"id\":7.0,\"lemma\":\"?\",\"type\":\"SF\",\"position\":26.0,\"weight\":1.0}],\"WSD\":[{\"id\":0.0,\"text\":\"무슨\",\"type\":\"MM\",\"scode\":\"00\",\"weight\":0.0,\"position\":0.0,\"begin\":0.0,\"end\":0.0},{\"id\":1.0,\"text\":\"일\",\"type\":\"NNG\",\"scode\":\"01\",\"weight\":2.2,\"position\":7.0,\"begin\":1.0,\"end\":1.0},{\"id\":2.0,\"text\":\"을\",\"type\":\"JKO\",\"scode\":\"00\",\"weight\":1.0,\"position\":10.0,\"begin\":2.0,\"end\":2.0},{\"id\":3.0,\"text\":\"할\",\"type\":\"VV\",\"scode\":\"00\",\"weight\":0.0,\"position\":14.0,\"begin\":3.0,\"end\":3.0},{\"id\":4.0,\"text\":\"줄\",\"type\":\"JKC\",\"scode\":\"00\",\"weight\":1.0,\"position\":17.0,\"begin\":4.0,\"end\":4.0},{\"id\":5.0,\"text\":\"아\",\"type\":\"VCN\",\"scode\":\"00\",\"weight\":0.0,\"position\":20.0,\"begin\":5.0,\"end\":5.0},{\"id\":6.0,\"text\":\"니\",\"type\":\"EF\",\"scode\":\"00\",\"weight\":1.0,\"position\":23.0,\"begin\":6.0,\"end\":6.0},{\"id\":7.0,\"text\":\"?\",\"type\":\"SF\",\"scode\":\"00\",\"weight\":1.0,\"position\":26.0,\"begin\":7.0,\"end\":7.0}],\"word\":[{\"id\":0.0,\"text\":\"무슨\",\"type\":\"\",\"begin\":0.0,\"end\":0.0},{\"id\":1.0,\"text\":\"일을\",\"type\":\"\",\"begin\":1.0,\"end\":2.0},{\"id\":2.0,\"text\":\"할줄아니?\",\"type\":\"\",\"begin\":3.0,\"end\":7.0}],\"NE\":[],\"dependency\":[{\"id\":0.0,\"text\":\"무슨\",\"head\":1.0,\"label\":\"DP\",\"mod\":[],\"weight\":0.616883},{\"id\":1.0,\"text\":\"일을\",\"head\":2.0,\"label\":\"NP_OBJ\",\"mod\":[0.0],\"weight\":0.829423},{\"id\":2.0,\"text\":\"할줄아니?\",\"head\":-1.0,\"label\":\"VP\",\"mod\":[1.0],\"weight\":0.280373}],\"SRL\":[]}],\"entity\":[]}}\n"
     ]
    }
   ],
   "source": [
    "import urllib3\n",
    "import json\n",
    " \n",
    "openApiURL = \"http://aiopen.etri.re.kr:8000/WiseNLU\"\n",
    "analysisCode = \"dparse\"\n",
    "text = \"무슨 일을 할줄아니?\"\n",
    " \n",
    "requestJson = {\n",
    "    \"access_key\": accessKey,\n",
    "    \"argument\": {\n",
    "        \"text\": text,\n",
    "        \"analysis_code\": analysisCode\n",
    "    }\n",
    "}\n",
    " \n",
    "http = urllib3.PoolManager()\n",
    "response = http.request(\n",
    "    \"POST\",\n",
    "    openApiURL,\n",
    "    headers={\"Content-Type\": \"application/json; charset=UTF-8\"},\n",
    "    body=json.dumps(requestJson)\n",
    ")\n",
    " \n",
    "print(\"[responseCode] \" + str(response.status))\n",
    "print(\"[responBody]\")\n",
    "print(str(response.data,\"utf-8\"))"
   ]
  }
 ],
 "metadata": {
  "kernelspec": {
   "display_name": "Python 3",
   "language": "python",
   "name": "python3"
  },
  "language_info": {
   "codemirror_mode": {
    "name": "ipython",
    "version": 3
   },
   "file_extension": ".py",
   "mimetype": "text/x-python",
   "name": "python",
   "nbconvert_exporter": "python",
   "pygments_lexer": "ipython3",
   "version": "3.6.3"
  }
 },
 "nbformat": 4,
 "nbformat_minor": 2
}
